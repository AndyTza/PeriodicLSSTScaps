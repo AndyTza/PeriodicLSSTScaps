{
 "cells": [
  {
   "cell_type": "code",
   "execution_count": 2,
   "id": "c2f73b8c",
   "metadata": {},
   "outputs": [],
   "source": [
    "from astropy.timeseries import LombScargleMultiband\n",
    "import numpy as np\n",
    "import matplotlib.pyplot as pyplot\n",
    "\n",
    "%matplotlib inline"
   ]
  },
  {
   "cell_type": "code",
   "execution_count": 5,
   "id": "6869bcb9",
   "metadata": {},
   "outputs": [],
   "source": [
    "def GeneratePeriodicData(n=10, period=10):\n",
    "    \"\"\"Generate periodic data for testing Lomb Scargle Periodogram.\n",
    "\n",
    "    Parameters\n",
    "    ----------\n",
    "    n : int\n",
    "        Number of data points.\n",
    "    period : float\n",
    "        Period of the periodic signal.\n",
    "\n",
    "    Returns\n",
    "    -------\n",
    "    t : np.ndarray\n",
    "        Time values.\n",
    "    y_obs : np.ndarray\n",
    "        Observed flux values.\n",
    "    \"\"\"\n",
    "    np.random.seed(42)\n",
    "\n",
    "    t = np.random.randint(100, size=n) + 0.3 + 0.4 * np.random.random(n)\n",
    "    y = 10 + np.sin(2 * np.pi * t / period)\n",
    "    dy = 0.001 + 0.001 * np.random.random(n)\n",
    "    y_obs = np.random.normal(y, dy)\n",
    "\n",
    "    return t, y_obs"
   ]
  },
  {
   "cell_type": "code",
   "execution_count": 11,
   "id": "b97c6937",
   "metadata": {},
   "outputs": [],
   "source": [
    "n_sources = 10 \n",
    "time, flux = GeneratePeriodicData()\n",
    "bands = n_sources * [\"u\"]\n",
    "yerr = 1e-3+np.zeros(n_sources)"
   ]
  },
  {
   "cell_type": "code",
   "execution_count": 12,
   "id": "b2bcc1c1",
   "metadata": {},
   "outputs": [],
   "source": [
    "def compute_optimized_periodogram_grid(x0, oversampling_factor=5, nyquist_factor=100):\n",
    "    \"\"\"\n",
    "    Computes an optimized periodogram frequency grid for a given time series.\n",
    "\n",
    "    Parameters\n",
    "    ----------\n",
    "    x0 : `array`\n",
    "        The input time axis.\n",
    "    oversampling_factor : `int`, optional\n",
    "        The oversampling factor for frequency grid.\n",
    "    nyquist_factor : `int`, optional\n",
    "        The Nyquist factor for frequency grid.\n",
    "\n",
    "    Returns\n",
    "    -------\n",
    "    frequencies : `array`\n",
    "        The computed optimized periodogram frequency grid.\n",
    "    \"\"\"\n",
    "\n",
    "    num_points = len(x0)\n",
    "    baseline = np.max(x0) - np.min(x0)\n",
    "\n",
    "    # Calculate the frequency resolution based on oversampling factor and baseline\n",
    "    frequency_resolution = 1. / baseline / oversampling_factor\n",
    "\n",
    "    num_frequencies = int(\n",
    "        0.5 * oversampling_factor * nyquist_factor * num_points)\n",
    "    frequencies = frequency_resolution + \\\n",
    "        frequency_resolution * np.arange(num_frequencies)\n",
    "\n",
    "    return frequencies"
   ]
  },
  {
   "cell_type": "code",
   "execution_count": 14,
   "id": "dac92bfa",
   "metadata": {},
   "outputs": [],
   "source": [
    "lsp = LombScargleMultiband(time, flux, bands, dy=yerr,\n",
    "                            nterms_base=1, nterms_band=1)"
   ]
  },
  {
   "cell_type": "code",
   "execution_count": 16,
   "id": "f0ff878d",
   "metadata": {},
   "outputs": [],
   "source": [
    "f_grid = compute_optimized_periodogram_grid(\n",
    "    time, oversampling_factor=5, nyquist_factor=100)\n",
    "period = 1/f_grid\n",
    "power = lsp.power(f_grid)"
   ]
  },
  {
   "cell_type": "code",
   "execution_count": 20,
   "id": "af0104cd",
   "metadata": {},
   "outputs": [
    {
     "data": {
      "text/plain": [
       "9.994515"
      ]
     },
     "execution_count": 20,
     "metadata": {},
     "output_type": "execute_result"
    }
   ],
   "source": [
    "period[np.argmax(power)].round(6)"
   ]
  },
  {
   "cell_type": "code",
   "execution_count": 21,
   "id": "d280d46c",
   "metadata": {},
   "outputs": [
    {
     "data": {
      "text/plain": [
       "0.99983"
      ]
     },
     "execution_count": 21,
     "metadata": {},
     "output_type": "execute_result"
    }
   ],
   "source": [
    "power[np.argmax(power)].round(6)"
   ]
  }
 ],
 "metadata": {
  "kernelspec": {
   "display_name": "Python 3 (ipykernel)",
   "language": "python",
   "name": "python3"
  },
  "language_info": {
   "codemirror_mode": {
    "name": "ipython",
    "version": 3
   },
   "file_extension": ".py",
   "mimetype": "text/x-python",
   "name": "python",
   "nbconvert_exporter": "python",
   "pygments_lexer": "ipython3",
   "version": "3.9.19"
  }
 },
 "nbformat": 4,
 "nbformat_minor": 5
}
